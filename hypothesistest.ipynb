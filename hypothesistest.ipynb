{
 "cells": [
  {
   "cell_type": "code",
   "execution_count": 2,
   "id": "b61d4009",
   "metadata": {},
   "outputs": [
    {
     "name": "stdout",
     "output_type": "stream",
     "text": [
      "Requirement already satisfied: statsmodels in c:\\users\\nikita uprety\\anaconda3\\lib\\site-packages (0.13.2)\n",
      "Requirement already satisfied: numpy>=1.17 in c:\\users\\nikita uprety\\anaconda3\\lib\\site-packages (from statsmodels) (1.21.5)\n",
      "Requirement already satisfied: scipy>=1.3 in c:\\users\\nikita uprety\\anaconda3\\lib\\site-packages (from statsmodels) (1.9.1)\n",
      "Requirement already satisfied: pandas>=0.25 in c:\\users\\nikita uprety\\anaconda3\\lib\\site-packages (from statsmodels) (1.4.4)\n",
      "Requirement already satisfied: patsy>=0.5.2 in c:\\users\\nikita uprety\\anaconda3\\lib\\site-packages (from statsmodels) (0.5.2)\n",
      "Requirement already satisfied: packaging>=21.3 in c:\\users\\nikita uprety\\anaconda3\\lib\\site-packages (from statsmodels) (21.3)\n",
      "Requirement already satisfied: pyparsing!=3.0.5,>=2.0.2 in c:\\users\\nikita uprety\\anaconda3\\lib\\site-packages (from packaging>=21.3->statsmodels) (3.0.9)\n",
      "Requirement already satisfied: pytz>=2020.1 in c:\\users\\nikita uprety\\anaconda3\\lib\\site-packages (from pandas>=0.25->statsmodels) (2022.1)\n",
      "Requirement already satisfied: python-dateutil>=2.8.1 in c:\\users\\nikita uprety\\anaconda3\\lib\\site-packages (from pandas>=0.25->statsmodels) (2.8.2)\n",
      "Requirement already satisfied: six in c:\\users\\nikita uprety\\anaconda3\\lib\\site-packages (from patsy>=0.5.2->statsmodels) (1.16.0)\n"
     ]
    }
   ],
   "source": [
    "!pip install statsmodels"
   ]
  },
  {
   "cell_type": "code",
   "execution_count": 9,
   "id": "d7499c45",
   "metadata": {},
   "outputs": [
    {
     "name": "stdout",
     "output_type": "stream",
     "text": [
      "103.95\n"
     ]
    }
   ],
   "source": [
    "from statsmodels.stats.weightstats import ztest as ztest\n",
    "import numpy as np\n",
    "from scipy import stats\n",
    "\n",
    "# enter IQ levels for 20 patients\n",
    "\n",
    "data= [88,92,94,96,97,97,97,99,99,105,109,109,109,110,112,112,112,113,114,115]\n",
    "\n",
    "print(np.mean(data))\n",
    "\n",
    "ztest_stats,p_value=ztest(data,value=100)"
   ]
  },
  {
   "cell_type": "code",
   "execution_count": 11,
   "id": "be2a02fe",
   "metadata": {},
   "outputs": [
    {
     "name": "stdout",
     "output_type": "stream",
     "text": [
      "2.0826322021483703\n",
      "0.03728476161171385\n",
      "Reject\n"
     ]
    }
   ],
   "source": [
    "print(ztest_stats)\n",
    "print(p_value)\n",
    "alpha=0.05\n",
    "if p_value<=alpha:\n",
    "    print(\"Reject\")\n",
    "else:\n",
    "    print(\"Accept\")"
   ]
  },
  {
   "cell_type": "code",
   "execution_count": 13,
   "id": "fb173d41",
   "metadata": {},
   "outputs": [],
   "source": [
    "# t-test\n",
    "ages=[10,20,35,50,28,40,55,18,16,55,30,25,43,18,30,28,14,24,16,17,32,35,26,27,65,18,43,23,21,20,19,70]\n"
   ]
  },
  {
   "cell_type": "code",
   "execution_count": 14,
   "id": "76158fc9",
   "metadata": {},
   "outputs": [
    {
     "data": {
      "text/plain": [
       "30.34375"
      ]
     },
     "execution_count": 14,
     "metadata": {},
     "output_type": "execute_result"
    }
   ],
   "source": [
    "import numpy as np\n",
    "ages_mean = np.mean(ages)\n",
    "ages_mean"
   ]
  },
  {
   "cell_type": "code",
   "execution_count": 15,
   "id": "cfd263ea",
   "metadata": {},
   "outputs": [],
   "source": [
    "sample_size = 10\n",
    "age_sample=np.random.choice(ages,sample_size)"
   ]
  },
  {
   "cell_type": "code",
   "execution_count": 16,
   "id": "2a768253",
   "metadata": {},
   "outputs": [
    {
     "data": {
      "text/plain": [
       "array([55, 30, 35, 30, 40, 43, 20, 16, 43, 10])"
      ]
     },
     "execution_count": 16,
     "metadata": {},
     "output_type": "execute_result"
    }
   ],
   "source": [
    "age_sample"
   ]
  },
  {
   "cell_type": "code",
   "execution_count": 17,
   "id": "b46908c8",
   "metadata": {},
   "outputs": [
    {
     "data": {
      "text/plain": [
       "32.2"
      ]
     },
     "execution_count": 17,
     "metadata": {},
     "output_type": "execute_result"
    }
   ],
   "source": [
    "np.mean(age_sample)"
   ]
  },
  {
   "cell_type": "code",
   "execution_count": 22,
   "id": "9e514e41",
   "metadata": {},
   "outputs": [],
   "source": [
    "from scipy.stats import ttest_1samp"
   ]
  },
  {
   "cell_type": "code",
   "execution_count": 23,
   "id": "91b5a805",
   "metadata": {},
   "outputs": [
    {
     "name": "stdout",
     "output_type": "stream",
     "text": [
      "Rejected\n"
     ]
    }
   ],
   "source": [
    "s,p=ttest_1samp(age_sample,45)\n",
    "if p<=0.5:\n",
    "    print(\"Rejected\")\n",
    "else:\n",
    "    print(\"Accepted\")"
   ]
  },
  {
   "cell_type": "code",
   "execution_count": 24,
   "id": "1bd370a7",
   "metadata": {},
   "outputs": [
    {
     "data": {
      "text/plain": [
       "Ttest_1sampResult(statistic=0.27326101682114856, pvalue=0.7908196891315389)"
      ]
     },
     "execution_count": 24,
     "metadata": {},
     "output_type": "execute_result"
    }
   ],
   "source": [
    "ttest_1samp(age_sample,31)"
   ]
  },
  {
   "cell_type": "code",
   "execution_count": 25,
   "id": "e59eeb7b",
   "metadata": {},
   "outputs": [
    {
     "data": {
      "text/plain": [
       "Ttest_1sampResult(statistic=0.9564135588740184, pvalue=0.3638468103605259)"
      ]
     },
     "execution_count": 25,
     "metadata": {},
     "output_type": "execute_result"
    }
   ],
   "source": [
    "ttest_1samp(age_sample,28)"
   ]
  },
  {
   "cell_type": "code",
   "execution_count": 27,
   "id": "136b5679",
   "metadata": {},
   "outputs": [],
   "source": [
    "import numpy as np\n",
    "import pandas as pd\n",
    "import scipy.stats as stats\n",
    "import math\n",
    "np.random.seed(10)\n",
    "school_ages=stats.poisson.rvs(mu=30, size=2000)\n",
    "classA_ages=stats.poisson.rvs(mu=35, size=80)"
   ]
  },
  {
   "cell_type": "code",
   "execution_count": 28,
   "id": "e2acc7e0",
   "metadata": {},
   "outputs": [
    {
     "data": {
      "text/plain": [
       "array([35, 32, 30, ..., 24, 19, 30], dtype=int64)"
      ]
     },
     "execution_count": 28,
     "metadata": {},
     "output_type": "execute_result"
    }
   ],
   "source": [
    "school_ages"
   ]
  },
  {
   "cell_type": "code",
   "execution_count": 29,
   "id": "27ab6eec",
   "metadata": {},
   "outputs": [
    {
     "data": {
      "text/plain": [
       "array([33, 27, 26, 31, 35, 37, 37, 36, 29, 50, 44, 32, 39, 33, 32, 34, 49,\n",
       "       35, 26, 34, 33, 39, 32, 36, 40, 39, 33, 29, 42, 29, 33, 38, 29, 32,\n",
       "       31, 29, 26, 31, 40, 26, 41, 28, 25, 37, 25, 29, 46, 36, 46, 26, 34,\n",
       "       55, 37, 29, 36, 32, 44, 27, 38, 33, 34, 36, 30, 32, 37, 32, 31, 44,\n",
       "       41, 32, 26, 29, 48, 35, 32, 35, 30, 38, 27, 39], dtype=int64)"
      ]
     },
     "execution_count": 29,
     "metadata": {},
     "output_type": "execute_result"
    }
   ],
   "source": [
    "classA_ages"
   ]
  },
  {
   "cell_type": "code",
   "execution_count": 30,
   "id": "3650c93f",
   "metadata": {},
   "outputs": [
    {
     "data": {
      "text/plain": [
       "34.475"
      ]
     },
     "execution_count": 30,
     "metadata": {},
     "output_type": "execute_result"
    }
   ],
   "source": [
    "classA_ages.mean()"
   ]
  },
  {
   "cell_type": "code",
   "execution_count": 31,
   "id": "cdaa0bb8",
   "metadata": {},
   "outputs": [],
   "source": [
    "tstatistics,p_value=ttest_1samp(classA_ages,popmean=school_ages.mean())"
   ]
  },
  {
   "cell_type": "code",
   "execution_count": 32,
   "id": "054ca0e9",
   "metadata": {},
   "outputs": [
    {
     "name": "stdout",
     "output_type": "stream",
     "text": [
      "Reject\n"
     ]
    }
   ],
   "source": [
    "if p_value <=0.05:\n",
    "    print(\"Reject\")\n",
    "else:\n",
    "    print(\"Accept\")"
   ]
  },
  {
   "cell_type": "code",
   "execution_count": 33,
   "id": "782c1248",
   "metadata": {},
   "outputs": [
    {
     "data": {
      "text/plain": [
       "31.05"
      ]
     },
     "execution_count": 33,
     "metadata": {},
     "output_type": "execute_result"
    }
   ],
   "source": [
    "np.random.seed(10)\n",
    "classB_ages=stats.poisson.rvs(mu=32,size=60)\n",
    "classB_ages.mean()"
   ]
  },
  {
   "cell_type": "code",
   "execution_count": 35,
   "id": "90651fe7",
   "metadata": {},
   "outputs": [],
   "source": [
    "_,p_value=stats.ttest_ind(a=classA_ages,b=classB_ages,equal_var=False)"
   ]
  },
  {
   "cell_type": "code",
   "execution_count": 36,
   "id": "3b239eb7",
   "metadata": {},
   "outputs": [
    {
     "name": "stdout",
     "output_type": "stream",
     "text": [
      "We are rejecting null hypothesis: classes are same,dependent\n"
     ]
    }
   ],
   "source": [
    "if p_value<0.05: #alpha value is 0.05 or 5%\n",
    "    print(\"We are rejecting null hypothesis: classes are same,dependent\")\n",
    "else:\n",
    "    print(\"We are accepting null hypothesis: classes are different, independent\")"
   ]
  },
  {
   "cell_type": "code",
   "execution_count": 40,
   "id": "2081b380",
   "metadata": {},
   "outputs": [],
   "source": [
    "weight1=[25,30,28,34,26,28,32,31,30,45]\n",
    "weight2=weight1+stats.norm.rvs(scale=5,loc=-1.25,size=10)"
   ]
  },
  {
   "cell_type": "code",
   "execution_count": 41,
   "id": "f99070e5",
   "metadata": {},
   "outputs": [
    {
     "name": "stdout",
     "output_type": "stream",
     "text": [
      "[25, 30, 28, 34, 26, 28, 32, 31, 30, 45]\n",
      "[22.56497908 29.03642575 23.21464276 35.48332419 29.46250204 11.85201614\n",
      " 36.84074425 29.46739638 31.05444226 47.06187006]\n"
     ]
    }
   ],
   "source": [
    "print(weight1)\n",
    "print(weight2)"
   ]
  },
  {
   "cell_type": "code",
   "execution_count": 44,
   "id": "47e7580c",
   "metadata": {},
   "outputs": [],
   "source": [
    "weight_df=pd.DataFrame({\"weight_10\":np.array(weight1),\n",
    "                       \"weight_20\":np.array(weight2),\n",
    "                       \"weight_change\":np.array(weight2)-np.array(weight1)})"
   ]
  },
  {
   "cell_type": "code",
   "execution_count": 45,
   "id": "fc8910b3",
   "metadata": {},
   "outputs": [],
   "source": [
    "_,p_value=stats.ttest_rel(a=weight1,b=weight2)"
   ]
  },
  {
   "cell_type": "code",
   "execution_count": 46,
   "id": "6c888984",
   "metadata": {},
   "outputs": [
    {
     "name": "stdout",
     "output_type": "stream",
     "text": [
      "0.5085427016179156\n"
     ]
    }
   ],
   "source": [
    "print(p_value)"
   ]
  },
  {
   "cell_type": "code",
   "execution_count": 47,
   "id": "aec4a784",
   "metadata": {},
   "outputs": [
    {
     "name": "stdout",
     "output_type": "stream",
     "text": [
      "we are accepting null hypothesis\n"
     ]
    }
   ],
   "source": [
    "if p_value<0.05:\n",
    "    print(\"We are rejecting null hypothesis\")\n",
    "else:\n",
    "    print(\"we are accepting null hypothesis\")"
   ]
  }
 ],
 "metadata": {
  "kernelspec": {
   "display_name": "Python 3 (ipykernel)",
   "language": "python",
   "name": "python3"
  },
  "language_info": {
   "codemirror_mode": {
    "name": "ipython",
    "version": 3
   },
   "file_extension": ".py",
   "mimetype": "text/x-python",
   "name": "python",
   "nbconvert_exporter": "python",
   "pygments_lexer": "ipython3",
   "version": "3.9.13"
  }
 },
 "nbformat": 4,
 "nbformat_minor": 5
}
